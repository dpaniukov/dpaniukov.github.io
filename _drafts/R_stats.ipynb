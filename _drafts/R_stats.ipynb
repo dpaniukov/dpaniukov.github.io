{
 "cells": [
  {
   "cell_type": "code",
   "execution_count": 19,
   "metadata": {
    "collapsed": false
   },
   "outputs": [],
   "source": [
    "df=read.table('~/exchange.csv',sep=',',header=T,row.names=1)"
   ]
  },
  {
   "cell_type": "code",
   "execution_count": 24,
   "metadata": {
    "collapsed": false
   },
   "outputs": [
    {
     "data": {
      "text/html": [
       "<table>\n",
       "<thead><tr><th></th><th scope=col>cities</th><th scope=col>ice_cream</th><th scope=col>kids</th><th scope=col>temp</th></tr></thead>\n",
       "<tbody>\n",
       "\t<tr><th scope=row>cities</th><td> 1.00000000</td><td>0.92667534 </td><td>-0.01655296</td><td>-0.04486818</td></tr>\n",
       "\t<tr><th scope=row>ice_cream</th><td> 0.92667534</td><td>1.00000000 </td><td> 0.03426892</td><td> 0.28836048</td></tr>\n",
       "\t<tr><th scope=row>kids</th><td>-0.01655296</td><td>0.03426892 </td><td> 1.00000000</td><td>-0.01796342</td></tr>\n",
       "\t<tr><th scope=row>temp</th><td>-0.04486818</td><td>0.28836048 </td><td>-0.01796342</td><td> 1.00000000</td></tr>\n",
       "</tbody>\n",
       "</table>\n"
      ],
      "text/latex": [
       "\\begin{tabular}{r|llll}\n",
       "  & cities & ice\\_cream & kids & temp\\\\\n",
       "\\hline\n",
       "\tcities &  1.00000000 & 0.92667534  & -0.01655296 & -0.04486818\\\\\n",
       "\tice\\_cream &  0.92667534 & 1.00000000  &  0.03426892 &  0.28836048\\\\\n",
       "\tkids & -0.01655296 & 0.03426892  &  1.00000000 & -0.01796342\\\\\n",
       "\ttemp & -0.04486818 & 0.28836048  & -0.01796342 &  1.00000000\\\\\n",
       "\\end{tabular}\n"
      ],
      "text/markdown": [
       "1. 1\n",
       "2. 0.926675337458751\n",
       "3. -0.0165529585072679\n",
       "4. -0.0448681817878508\n",
       "5. 0.926675337458751\n",
       "6. 1\n",
       "7. 0.0342689219282003\n",
       "8. 0.288360476979826\n",
       "9. -0.0165529585072679\n",
       "10. 0.0342689219282003\n",
       "11. 1\n",
       "12. -0.0179634219447715\n",
       "13. -0.0448681817878508\n",
       "14. 0.288360476979826\n",
       "15. -0.0179634219447715\n",
       "16. 1\n",
       "\n",
       "\n"
      ],
      "text/plain": [
       "          cities      ice_cream  kids        temp       \n",
       "cities     1.00000000 0.92667534 -0.01655296 -0.04486818\n",
       "ice_cream  0.92667534 1.00000000  0.03426892  0.28836048\n",
       "kids      -0.01655296 0.03426892  1.00000000 -0.01796342\n",
       "temp      -0.04486818 0.28836048 -0.01796342  1.00000000"
      ]
     },
     "metadata": {},
     "output_type": "display_data"
    }
   ],
   "source": [
    "cor(df)"
   ]
  },
  {
   "cell_type": "code",
   "execution_count": 25,
   "metadata": {
    "collapsed": false
   },
   "outputs": [
    {
     "data": {
      "text/plain": [
       "\n",
       "\tOne Sample t-test\n",
       "\n",
       "data:  df$ice_cream\n",
       "t = 121.34, df = 2499, p-value < 2.2e-16\n",
       "alternative hypothesis: true mean is not equal to 0\n",
       "95 percent confidence interval:\n",
       " 42.17508 43.56067\n",
       "sample estimates:\n",
       "mean of x \n",
       " 42.86787 \n"
      ]
     },
     "metadata": {},
     "output_type": "display_data"
    }
   ],
   "source": [
    "t.test(df$ice_cream, mu=0)"
   ]
  },
  {
   "cell_type": "code",
   "execution_count": 26,
   "metadata": {
    "collapsed": false
   },
   "outputs": [
    {
     "data": {
      "text/plain": [
       "\n",
       "\tWelch Two Sample t-test\n",
       "\n",
       "data:  df$ice_cream and df$temp\n",
       "t = 7.8275, df = 3241.9, p-value = 6.685e-15\n",
       "alternative hypothesis: true difference in means is not equal to 0\n",
       "95 percent confidence interval:\n",
       " 2.224794 3.711851\n",
       "sample estimates:\n",
       "mean of x mean of y \n",
       " 42.86787  39.89955 \n"
      ]
     },
     "metadata": {},
     "output_type": "display_data"
    }
   ],
   "source": [
    "t.test(df$ice_cream,df$temp)"
   ]
  },
  {
   "cell_type": "code",
   "execution_count": 27,
   "metadata": {
    "collapsed": false
   },
   "outputs": [
    {
     "data": {
      "text/plain": [
       "\n",
       "Call:\n",
       "lm(formula = ice_cream ~ temp, data = df)\n",
       "\n",
       "Residuals:\n",
       "   Min     1Q Median     3Q    Max \n",
       "-37.10 -14.21  -0.45  14.40  41.70 \n",
       "\n",
       "Coefficients:\n",
       "            Estimate Std. Error t value Pr(>|t|)    \n",
       "(Intercept) 13.36530    1.98908   6.719 2.25e-11 ***\n",
       "temp         0.73942    0.04913  15.052  < 2e-16 ***\n",
       "---\n",
       "Signif. codes:  0 ‘***’ 0.001 ‘**’ 0.01 ‘*’ 0.05 ‘.’ 0.1 ‘ ’ 1\n",
       "\n",
       "Residual standard error: 16.92 on 2498 degrees of freedom\n",
       "Multiple R-squared:  0.08315,\tAdjusted R-squared:  0.08278 \n",
       "F-statistic: 226.6 on 1 and 2498 DF,  p-value: < 2.2e-16\n"
      ]
     },
     "metadata": {},
     "output_type": "display_data"
    }
   ],
   "source": [
    "lm=lm(ice_cream ~ temp,data=df)\n",
    "summary(lm)"
   ]
  },
  {
   "cell_type": "code",
   "execution_count": 28,
   "metadata": {
    "collapsed": false
   },
   "outputs": [
    {
     "data": {
      "text/plain": [
       "\n",
       "Call:\n",
       "lm(formula = ice_cream ~ temp * kids, data = df)\n",
       "\n",
       "Residuals:\n",
       "    Min      1Q  Median      3Q     Max \n",
       "-37.481 -14.184  -0.603  14.247  40.521 \n",
       "\n",
       "Coefficients:\n",
       "            Estimate Std. Error t value Pr(>|t|)    \n",
       "(Intercept) 17.21324    2.80043   6.147 9.19e-10 ***\n",
       "temp         0.62622    0.06897   9.080  < 2e-16 ***\n",
       "kids1       -7.89288    3.97245  -1.987   0.0470 *  \n",
       "temp:kids1   0.23279    0.09812   2.372   0.0177 *  \n",
       "---\n",
       "Signif. codes:  0 ‘***’ 0.001 ‘**’ 0.01 ‘*’ 0.05 ‘.’ 0.1 ‘ ’ 1\n",
       "\n",
       "Residual standard error: 16.89 on 2496 degrees of freedom\n",
       "Multiple R-squared:  0.08677,\tAdjusted R-squared:  0.08567 \n",
       "F-statistic: 79.05 on 3 and 2496 DF,  p-value: < 2.2e-16\n"
      ]
     },
     "metadata": {},
     "output_type": "display_data"
    }
   ],
   "source": [
    "df$kids = as.factor(df$kids)\n",
    "lm2=lm(ice_cream ~ temp * kids,data=df)\n",
    "summary(lm2)"
   ]
  },
  {
   "cell_type": "code",
   "execution_count": 29,
   "metadata": {
    "collapsed": false
   },
   "outputs": [
    {
     "data": {
      "text/plain": [
       "              Df Sum Sq Mean Sq F value Pr(>F)    \n",
       "temp           1  64844   64844   226.6 <2e-16 ***\n",
       "Residuals   2498 714980     286                   \n",
       "---\n",
       "Signif. codes:  0 ‘***’ 0.001 ‘**’ 0.01 ‘*’ 0.05 ‘.’ 0.1 ‘ ’ 1"
      ]
     },
     "metadata": {},
     "output_type": "display_data"
    }
   ],
   "source": [
    "summary(aov(ice_cream~temp,data=df))"
   ]
  },
  {
   "cell_type": "code",
   "execution_count": 31,
   "metadata": {
    "collapsed": false
   },
   "outputs": [
    {
     "data": {
      "text/plain": [
       "\n",
       "Call:\n",
       "glm(formula = kids ~ ice_cream, family = \"binomial\", data = df)\n",
       "\n",
       "Deviance Residuals: \n",
       "   Min      1Q  Median      3Q     Max  \n",
       "-1.241  -1.157  -1.114   1.195   1.246  \n",
       "\n",
       "Coefficients:\n",
       "             Estimate Std. Error z value Pr(>|z|)  \n",
       "(Intercept) -0.208145   0.105173  -1.979   0.0478 *\n",
       "ice_cream    0.003884   0.002268   1.713   0.0868 .\n",
       "---\n",
       "Signif. codes:  0 ‘***’ 0.001 ‘**’ 0.01 ‘*’ 0.05 ‘.’ 0.1 ‘ ’ 1\n",
       "\n",
       "(Dispersion parameter for binomial family taken to be 1)\n",
       "\n",
       "    Null deviance: 3464.7  on 2499  degrees of freedom\n",
       "Residual deviance: 3461.7  on 2498  degrees of freedom\n",
       "AIC: 3465.7\n",
       "\n",
       "Number of Fisher Scoring iterations: 3\n"
      ]
     },
     "metadata": {},
     "output_type": "display_data"
    }
   ],
   "source": [
    "mod1 = glm(kids ~ ice_cream, data=df, family=\"binomial\")\n",
    "summary(mod1)"
   ]
  },
  {
   "cell_type": "code",
   "execution_count": 33,
   "metadata": {
    "collapsed": false
   },
   "outputs": [
    {
     "data": {
      "text/html": [
       "<ol class=list-inline>\n",
       "\t<li>'0'</li>\n",
       "\t<li>'1'</li>\n",
       "</ol>\n"
      ],
      "text/latex": [
       "\\begin{enumerate*}\n",
       "\\item '0'\n",
       "\\item '1'\n",
       "\\end{enumerate*}\n"
      ],
      "text/markdown": [
       "1. '0'\n",
       "2. '1'\n",
       "\n",
       "\n"
      ],
      "text/plain": [
       "[1] \"0\" \"1\""
      ]
     },
     "metadata": {},
     "output_type": "display_data"
    }
   ],
   "source": [
    "levels(df$kids)"
   ]
  },
  {
   "cell_type": "code",
   "execution_count": 35,
   "metadata": {
    "collapsed": false
   },
   "outputs": [
    {
     "data": {
      "text/plain": [
       "\n",
       "Call:\n",
       "glm(formula = kids ~ ice_cream, family = \"binomial\", data = df)\n",
       "\n",
       "Deviance Residuals: \n",
       "   Min      1Q  Median      3Q     Max  \n",
       "-1.246  -1.195   1.114   1.157   1.241  \n",
       "\n",
       "Coefficients:\n",
       "             Estimate Std. Error z value Pr(>|z|)  \n",
       "(Intercept)  0.208145   0.105173   1.979   0.0478 *\n",
       "ice_cream   -0.003884   0.002268  -1.713   0.0868 .\n",
       "---\n",
       "Signif. codes:  0 ‘***’ 0.001 ‘**’ 0.01 ‘*’ 0.05 ‘.’ 0.1 ‘ ’ 1\n",
       "\n",
       "(Dispersion parameter for binomial family taken to be 1)\n",
       "\n",
       "    Null deviance: 3464.7  on 2499  degrees of freedom\n",
       "Residual deviance: 3461.7  on 2498  degrees of freedom\n",
       "AIC: 3465.7\n",
       "\n",
       "Number of Fisher Scoring iterations: 3\n"
      ]
     },
     "metadata": {},
     "output_type": "display_data"
    }
   ],
   "source": [
    "df$kids = factor(df$kids, levels = c(1, 0))\n",
    "mod2 = glm(kids ~ ice_cream, data=df, family=\"binomial\")\n",
    "summary(mod2)"
   ]
  },
  {
   "cell_type": "code",
   "execution_count": 14,
   "metadata": {
    "collapsed": false
   },
   "outputs": [
    {
     "name": "stderr",
     "output_type": "stream",
     "text": [
      "Installing package into ‘/home/dmitrii/R/x86_64-pc-linux-gnu-library/3.3’\n",
      "(as ‘lib’ is unspecified)\n",
      "Warning message in install.packages(\"lme4\"):\n",
      "“installation of package ‘lme4’ had non-zero exit status”"
     ]
    }
   ],
   "source": [
    "install.packages('lme4')"
   ]
  },
  {
   "cell_type": "code",
   "execution_count": 2,
   "metadata": {
    "collapsed": false
   },
   "outputs": [
    {
     "name": "stderr",
     "output_type": "stream",
     "text": [
      "Loading required package: Matrix\n"
     ]
    }
   ],
   "source": [
    "library('lme4')"
   ]
  },
  {
   "cell_type": "code",
   "execution_count": 22,
   "metadata": {
    "collapsed": false
   },
   "outputs": [
    {
     "data": {
      "text/plain": [
       "Linear mixed model fit by maximum likelihood  ['lmerMod']\n",
       "Formula: ice_cream ~ temp + (1 | cities)\n",
       "   Data: df\n",
       "\n",
       "     AIC      BIC   logLik deviance df.resid \n",
       " 13227.0  13250.3  -6609.5  13219.0     2496 \n",
       "\n",
       "Scaled residuals: \n",
       "    Min      1Q  Median      3Q     Max \n",
       "-4.5515 -0.5695 -0.0070  0.5589  3.7772 \n",
       "\n",
       "Random effects:\n",
       " Groups   Name        Variance Std.Dev.\n",
       " cities   (Intercept) 271.35   16.473  \n",
       " Residual              10.03    3.167  \n",
       "Number of obs: 2500, groups:  cities, 50\n",
       "\n",
       "Fixed effects:\n",
       "            Estimate Std. Error t value\n",
       "(Intercept) 8.921509   2.360016    3.78\n",
       "temp        0.851126   0.009334   91.19\n",
       "\n",
       "Correlation of Fixed Effects:\n",
       "     (Intr)\n",
       "temp -0.158"
      ]
     },
     "metadata": {},
     "output_type": "display_data"
    }
   ],
   "source": [
    "model1 = lmer(ice_cream ~ temp + (1|cities), data=df, REML=F)\n",
    "summary(model1)"
   ]
  },
  {
   "cell_type": "code",
   "execution_count": 23,
   "metadata": {
    "collapsed": false
   },
   "outputs": [
    {
     "data": {
      "text/plain": [
       "Linear mixed model fit by maximum likelihood  ['lmerMod']\n",
       "Formula: ice_cream ~ temp + (1 + temp | cities)\n",
       "   Data: df\n",
       "\n",
       "     AIC      BIC   logLik deviance df.resid \n",
       "  9114.6   9149.6  -4551.3   9102.6     2494 \n",
       "\n",
       "Scaled residuals: \n",
       "     Min       1Q   Median       3Q      Max \n",
       "-3.06647 -0.72209  0.01464  0.71654  2.74365 \n",
       "\n",
       "Random effects:\n",
       " Groups   Name        Variance Std.Dev. Corr \n",
       " cities   (Intercept) 0.1505   0.3879        \n",
       "          temp        0.1777   0.4216   -1.00\n",
       " Residual             1.8684   1.3669        \n",
       "Number of obs: 2500, groups:  cities, 50\n",
       "\n",
       "Fixed effects:\n",
       "            Estimate Std. Error t value\n",
       "(Intercept)  8.59958    0.17196   50.01\n",
       "temp         0.86235    0.05976   14.43\n",
       "\n",
       "Correlation of Fixed Effects:\n",
       "     (Intr)\n",
       "temp -0.381"
      ]
     },
     "metadata": {},
     "output_type": "display_data"
    }
   ],
   "source": [
    "model2 = lmer(ice_cream ~ temp + (1+temp|cities), data=df, REML=F)\n",
    "summary(model2)"
   ]
  },
  {
   "cell_type": "code",
   "execution_count": null,
   "metadata": {
    "collapsed": true
   },
   "outputs": [],
   "source": []
  }
 ],
 "metadata": {
  "anaconda-cloud": {},
  "kernelspec": {
   "display_name": "R 3.3",
   "language": "R",
   "name": "ir33"
  },
  "language_info": {
   "codemirror_mode": "r",
   "file_extension": ".r",
   "mimetype": "text/x-r-source",
   "name": "R",
   "pygments_lexer": "r",
   "version": "3.3.1"
  }
 },
 "nbformat": 4,
 "nbformat_minor": 1
}
